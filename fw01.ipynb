{
 "cells": [
  {
   "cell_type": "code",
   "execution_count": null,
   "metadata": {},
   "outputs": [],
   "source": [
    "import numpy as np\n",
    "import pandas as pd\n",
    "import seaborn as sns\n",
    "import os, time, re\n",
    "import matplotlib.pyplot as plt \n",
    "from pandas.plotting import scatter_matrix"
   ]
  },
  {
   "cell_type": "code",
   "execution_count": null,
   "metadata": {},
   "outputs": [],
   "source": [
    "paloalto01 = pd.read_csv('~/traf.csv', header=None, usecols=[1,3,4,7,8,9,10,14,16,17,23,25,27,28,29,30,31,32,33,34,36,41,42,44,45,46,53])\n",
    "paloalto01.columns = ['date', 'type','subtype','srcip', 'dstip', 'n-srcip','n-dstip','app','szone','dzone','r-count', 'dstport','n-dstport','flags', 'protocol', 'action', 'bytes', 'bsent', 'breceived', 'packets','e-time','sloc','dloc','psent','preceived','se-reason','asource']"
   ]
  },
  {
   "cell_type": "code",
   "execution_count": null,
   "metadata": {},
   "outputs": [],
   "source": [
    "paloalto01.iloc[:10,:10]"
   ]
  },
  {
   "cell_type": "code",
   "execution_count": null,
   "metadata": {},
   "outputs": [],
   "source": [
    "def aciptoint(data):\n",
    "    import ipaddress\n",
    "    return int(ipaddress.IPv4Address(data))\n",
    "\n",
    "paloalto01['srcip'] = paloalto01['srcip'].apply(aciptoint) \n",
    "paloalto01['dstip'] = paloalto01['dstip'].apply(aciptoint)\n",
    "\n",
    "paloalto01['protocol'] = paloalto01.protocol.map({'tcp': 1, 'udp': 2, 'icpm': 3, 'ipv6': 4})\n",
    "paloalto01['action'] = paloalto01.action.map({'allow': 1, 'deny': 2, 'reset-both': 3})\n"
   ]
  },
  {
   "cell_type": "code",
   "execution_count": null,
   "metadata": {},
   "outputs": [],
   "source": [
    "from sklearn.preprocessing import LabelEncoder\n",
    "\n",
    "lb_loc = LabelEncoder()\n",
    "paloalto01[\"sloc_inx\"] = lb_loc.fit_transform(paloalto01[\"sloc\"])\n",
    "paloalto01[[\"sloc\", \"sloc_inx\"]].head(11)"
   ]
  },
  {
   "cell_type": "code",
   "execution_count": null,
   "metadata": {},
   "outputs": [],
   "source": [
    "paloalto01[\"dloc_inx\"] = lb_loc.fit_transform(paloalto01[\"dloc\"])\n",
    "paloalto01[[\"dloc\", \"dloc_inx\"]].head(11)"
   ]
  },
  {
   "cell_type": "code",
   "execution_count": null,
   "metadata": {},
   "outputs": [],
   "source": [
    "paloalto01[\"app_inx\"] = lb_loc.fit_transform(paloalto01[\"app\"])\n",
    "paloalto01[[\"app\", \"app_inx\"]].head(11)"
   ]
  },
  {
   "cell_type": "code",
   "execution_count": null,
   "metadata": {},
   "outputs": [],
   "source": [
    "paloalto01[\"flags_inx\"] = lb_loc.fit_transform(paloalto01[\"flags\"])\n",
    "paloalto01[[\"flags\", \"flags_inx\"]].head(11)"
   ]
  },
  {
   "cell_type": "code",
   "execution_count": null,
   "metadata": {},
   "outputs": [],
   "source": [
    "paloalto01[\"e-time_inx\"] = lb_loc.fit_transform(paloalto01[\"e-time\"])\n",
    "paloalto01[[\"e-time\", \"e-time_inx\"]].head(11)"
   ]
  },
  {
   "cell_type": "code",
   "execution_count": null,
   "metadata": {},
   "outputs": [],
   "source": [
    "corr = paloalto01.corr()"
   ]
  },
  {
   "cell_type": "code",
   "execution_count": null,
   "metadata": {},
   "outputs": [],
   "source": [
    "mask = np.zeros_like(corr, dtype=np.bool)\n",
    "mask[np.triu_indices_from(mask)] = True\n",
    "\n",
    "f, ax = plt.subplots(figsize=(9, 7))\n",
    "\n",
    "cmap = sns.diverging_palette(220, 10, as_cmap=True)\n",
    "\n",
    "sns.heatmap(corr, mask=mask, cmap=cmap, vmax=.3, center=0,\n",
    "            square=True, linewidths=.5, cbar_kws={\"shrink\": .5})"
   ]
  },
  {
   "cell_type": "code",
   "execution_count": null,
   "metadata": {},
   "outputs": [],
   "source": [
    "sns.heatmap(corr, \n",
    "            xticklabels=corr.columns.values,\n",
    "            yticklabels=corr.columns.values)"
   ]
  },
  {
   "cell_type": "code",
   "execution_count": null,
   "metadata": {},
   "outputs": [],
   "source": [
    "#columns = ['srcip', 'dstip', 'app_inx', 'action', 'flags_inx', 'bytes', 'e-time_inx','sloc_inx','dloc_inx'] \n",
    "columns = ['app_inx', 'action', 'flags_inx','sloc_inx'] \n",
    "corr2 = paloalto01[columns].corr()\n",
    "columns3 = ['app_inx', 'action', 'flags_inx','e-time_inx','srcip'] \n",
    "corr3 = paloalto01[columns3].corr()"
   ]
  },
  {
   "cell_type": "code",
   "execution_count": null,
   "metadata": {},
   "outputs": [],
   "source": [
    "mask2 = np.zeros_like(corr2, dtype=np.bool)\n",
    "mask2[np.triu_indices_from(mask2)] = True\n",
    "\n",
    "f, ax = plt.subplots(figsize=(9, 7))\n",
    "\n",
    "cmap = sns.diverging_palette(220, 10, as_cmap=True)\n",
    "\n",
    "sns.heatmap(corr2, mask=mask2, cmap=cmap, vmax=.3, center=0,\n",
    "            square=True, linewidths=.5, cbar_kws={\"shrink\": .5})"
   ]
  },
  {
   "cell_type": "code",
   "execution_count": null,
   "metadata": {},
   "outputs": [],
   "source": [
    "scatter_matrix(corr2)\n",
    "plt.show()"
   ]
  },
  {
   "cell_type": "code",
   "execution_count": null,
   "metadata": {},
   "outputs": [],
   "source": [
    "scatter_matrix(corr3)\n",
    "plt.show()"
   ]
  },
  {
   "cell_type": "code",
   "execution_count": null,
   "metadata": {},
   "outputs": [],
   "source": [
    "corr3.plot(kind='box', subplots=True, layout=(3,3), sharex=False, sharey=False)\n",
    "plt.show()"
   ]
  }
 ],
 "metadata": {
  "kernelspec": {
   "display_name": "Python 3",
   "language": "python",
   "name": "python3"
  },
  "language_info": {
   "codemirror_mode": {
    "name": "ipython",
    "version": 3
   },
   "file_extension": ".py",
   "mimetype": "text/x-python",
   "name": "python",
   "nbconvert_exporter": "python",
   "pygments_lexer": "ipython3",
   "version": "3.7.7"
  }
 },
 "nbformat": 4,
 "nbformat_minor": 2
}
